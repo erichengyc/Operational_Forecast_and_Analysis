{
 "cells": [
  {
   "cell_type": "markdown",
   "metadata": {},
   "source": [
    "# Linear Regression"
   ]
  },
  {
   "cell_type": "markdown",
   "metadata": {},
   "source": [
    "# Import the data and Prediction"
   ]
  },
  {
   "cell_type": "code",
   "execution_count": 39,
   "metadata": {},
   "outputs": [
    {
     "name": "stdout",
     "output_type": "stream",
     "text": [
      "[113.3601379]\n"
     ]
    }
   ],
   "source": [
    "import pandas as pd\n",
    "from sklearn import linear_model\n",
    "\n",
    "df = pd.read_csv(\"Week12_linearRegressionData.csv\")\n",
    "\n",
    "X = df[[\"att\", \"calls\", \"YN\"]]\n",
    "y = df[\"awt\"]\n",
    "\n",
    "regr = linear_model.LinearRegression()\n",
    "regr.fit(X, y)\n",
    "\n",
    "predictedAWT = regr.predict([[59.35, 473, 10]])\n",
    "\n",
    "print(predictedAWT)"
   ]
  },
  {
   "cell_type": "markdown",
   "metadata": {},
   "source": [
    "# Plot the data"
   ]
  },
  {
   "cell_type": "code",
   "execution_count": 40,
   "metadata": {},
   "outputs": [
    {
     "data": {
      "image/png": "[encoded data removed]",
      "text/plain": [
       "<Figure size 432x288 with 1 Axes>"
      ]
     },
     "metadata": {
      "needs_background": "light"
     },
     "output_type": "display_data"
    }
   ],
   "source": [
    "import matplotlib.pyplot as plt\n",
    "from scipy import stats\n",
    "\n",
    "x = df[\"calls\"]\n",
    "y = df [\"awt\"]\n",
    "\n",
    "slope, intercept, r, p, std_err = stats.linregress(x, y)\n",
    "\n",
    "def myfunc(x):\n",
    " return slope * x + intercept\n",
    "\n",
    "mymodel = list(map(myfunc, x))\n",
    "\n",
    "plt.scatter(x, y)\n",
    "plt.plot(x, slope * x + intercept, color='r')\n",
    "plt.xlabel(\"calls\")\n",
    "plt.ylabel (\"awt\")\n",
    "plt.show()"
   ]
  },
  {
   "cell_type": "code",
   "execution_count": 41,
   "metadata": {},
   "outputs": [
    {
     "data": {
      "text/html": [
       "<div>\n",
       "<style scoped>\n",
       "    .dataframe tbody tr th:only-of-type {\n",
       "        vertical-align: middle;\n",
       "    }\n",
       "\n",
       "    .dataframe tbody tr th {\n",
       "        vertical-align: top;\n",
       "    }\n",
       "\n",
       "    .dataframe thead th {\n",
       "        text-align: right;\n",
       "    }\n",
       "</style>\n",
       "<table border=\"1\" class=\"dataframe\">\n",
       "  <thead>\n",
       "    <tr style=\"text-align: right;\">\n",
       "      <th></th>\n",
       "      <th>date</th>\n",
       "      <th>calls</th>\n",
       "      <th>abnd</th>\n",
       "      <th>att</th>\n",
       "      <th>awt</th>\n",
       "      <th>awtx Abnd</th>\n",
       "      <th>YN</th>\n",
       "    </tr>\n",
       "  </thead>\n",
       "  <tbody>\n",
       "    <tr>\n",
       "      <th>0</th>\n",
       "      <td>01/07/2016</td>\n",
       "      <td>473</td>\n",
       "      <td>148</td>\n",
       "      <td>59.350000</td>\n",
       "      <td>105.466667</td>\n",
       "      <td>1.043241</td>\n",
       "      <td>10</td>\n",
       "    </tr>\n",
       "    <tr>\n",
       "      <th>1</th>\n",
       "      <td>04/07/2016</td>\n",
       "      <td>473</td>\n",
       "      <td>158</td>\n",
       "      <td>44.166667</td>\n",
       "      <td>91.766667</td>\n",
       "      <td>1.045926</td>\n",
       "      <td>8</td>\n",
       "    </tr>\n",
       "    <tr>\n",
       "      <th>2</th>\n",
       "      <td>05/07/2016</td>\n",
       "      <td>445</td>\n",
       "      <td>84</td>\n",
       "      <td>33.866667</td>\n",
       "      <td>42.716667</td>\n",
       "      <td>0.320567</td>\n",
       "      <td>13</td>\n",
       "    </tr>\n",
       "    <tr>\n",
       "      <th>3</th>\n",
       "      <td>06/07/2016</td>\n",
       "      <td>417</td>\n",
       "      <td>97</td>\n",
       "      <td>41.933333</td>\n",
       "      <td>79.583333</td>\n",
       "      <td>0.576690</td>\n",
       "      <td>10</td>\n",
       "    </tr>\n",
       "    <tr>\n",
       "      <th>4</th>\n",
       "      <td>07/07/2016</td>\n",
       "      <td>412</td>\n",
       "      <td>95</td>\n",
       "      <td>41.533333</td>\n",
       "      <td>66.083333</td>\n",
       "      <td>0.544954</td>\n",
       "      <td>7</td>\n",
       "    </tr>\n",
       "  </tbody>\n",
       "</table>\n",
       "</div>"
      ],
      "text/plain": [
       "         date  calls  abnd        att         awt  awtx Abnd   YN\n",
       "0  01/07/2016    473   148  59.350000  105.466667    1.043241  10\n",
       "1  04/07/2016    473   158  44.166667   91.766667    1.045926   8\n",
       "2  05/07/2016    445    84  33.866667   42.716667    0.320567  13\n",
       "3  06/07/2016    417    97  41.933333   79.583333    0.576690  10\n",
       "4  07/07/2016    412    95  41.533333   66.083333    0.544954   7"
      ]
     },
     "execution_count": 41,
     "metadata": {},
     "output_type": "execute_result"
    }
   ],
   "source": [
    "df.head()"
   ]
  },
  {
   "cell_type": "code",
   "execution_count": 42,
   "metadata": {},
   "outputs": [],
   "source": [
    "# import matplotlib.pyplot as plt\n",
    "# from scipy import stats\n",
    "\n",
    "# x = df[\"abnd\"]\n",
    "# y = df [\"awt\"]\n",
    "\n",
    "# slope, intercept, r, p, std_err = stats.linregress(x, y)\n",
    "\n",
    "# def myfunc(x):\n",
    "#  return slope * x + intercept\n",
    "\n",
    "# mymodel = list(map(myfunc, x))\n",
    "\n",
    "# plt.scatter(x, y)\n",
    "# plt.plot(x, slope * x + intercept, color='r')\n",
    "# plt.xlabel(\"abnd\")\n",
    "# plt.ylabel (\"awt\")\n",
    "# plt.show()"
   ]
  },
  {
   "cell_type": "code",
   "execution_count": 43,
   "metadata": {},
   "outputs": [
    {
     "data": {
      "image/png": "[encoded data removed]",
      "text/plain": [
       "<Figure size 432x288 with 1 Axes>"
      ]
     },
     "metadata": {
      "needs_background": "light"
     },
     "output_type": "display_data"
    }
   ],
   "source": [
    "import matplotlib.pyplot as plt\n",
    "from scipy import stats\n",
    "\n",
    "x = df[\"att\"]\n",
    "y = df [\"awt\"]\n",
    "\n",
    "slope, intercept, r, p, std_err = stats.linregress(x, y)\n",
    "\n",
    "def myfunc(x):\n",
    " return slope * x + intercept\n",
    "\n",
    "mymodel = list(map(myfunc, x))\n",
    "\n",
    "plt.scatter(x, y)\n",
    "plt.plot(x, slope * x + intercept, color='r')\n",
    "plt.xlabel(\"att\")\n",
    "plt.ylabel (\"awt\")\n",
    "plt.show()"
   ]
  },
  {
   "cell_type": "markdown",
   "metadata": {},
   "source": [
    "### Access the Coefficients"
   ]
  },
  {
   "cell_type": "code",
   "execution_count": 44,
   "metadata": {},
   "outputs": [
    {
     "name": "stdout",
     "output_type": "stream",
     "text": [
      "[ 1.25558956  0.15424513 -5.67677687]\n"
     ]
    }
   ],
   "source": [
    "print(regr.coef_)"
   ]
  },
  {
   "cell_type": "markdown",
   "metadata": {},
   "source": [
    "### OLS Regression Results with Coefficients, P-Value and Adjusted R-Squared"
   ]
  },
  {
   "cell_type": "code",
   "execution_count": 45,
   "metadata": {},
   "outputs": [],
   "source": [
    "# import statsmodels.formula.api as smf\n",
    "\n",
    "# model = smf.ols('awt ~ att + calls + abnd', data = df)\n",
    "# results = model.fit()\n",
    "# print(results.summary())"
   ]
  },
  {
   "cell_type": "code",
   "execution_count": 46,
   "metadata": {},
   "outputs": [],
   "source": [
    "# def Predict_AWT(att, calls, abnd):\n",
    "#  return((1.1309 * att) + (calls * (-0.0618)) + (abnd * 0.4025) + 13.4840)\n",
    "\n",
    "# print(Predict_AWT(59.35, 473, 148))\n",
    "# print(Predict_AWT(44.16667, 473, 158))\n",
    "# print(Predict_AWT(33.86667, 445, 84))\n",
    "# print(Predict_AWT(41.93333,417, 97))\n",
    "# print(Predict_AWT(41.53333, 412, 95))"
   ]
  },
  {
   "cell_type": "code",
   "execution_count": 47,
   "metadata": {},
   "outputs": [
    {
     "name": "stdout",
     "output_type": "stream",
     "text": [
      "                            OLS Regression Results                            \n",
      "==============================================================================\n",
      "Dep. Variable:                    awt   R-squared:                       0.851\n",
      "Model:                            OLS   Adj. R-squared:                  0.851\n",
      "Method:                 Least Squares   F-statistic:                     2721.\n",
      "Date:                Mon, 08 Nov 2021   Prob (F-statistic):               0.00\n",
      "Time:                        16:44:23   Log-Likelihood:                -6541.9\n",
      "No. Observations:                1428   AIC:                         1.309e+04\n",
      "Df Residuals:                    1424   BIC:                         1.311e+04\n",
      "Df Model:                           3                                         \n",
      "Covariance Type:            nonrobust                                         \n",
      "==============================================================================\n",
      "                 coef    std err          t      P>|t|      [0.025      0.975]\n",
      "------------------------------------------------------------------------------\n",
      "Intercept     22.6507      1.638     13.826      0.000      19.437      25.864\n",
      "att            1.2556      0.058     21.780      0.000       1.143       1.369\n",
      "calls          0.1542      0.005     30.732      0.000       0.144       0.164\n",
      "YN            -5.6768      0.172    -32.940      0.000      -6.015      -5.339\n",
      "==============================================================================\n",
      "Omnibus:                      418.461   Durbin-Watson:                   1.386\n",
      "Prob(Omnibus):                  0.000   Jarque-Bera (JB):             2857.363\n",
      "Skew:                           1.184   Prob(JB):                         0.00\n",
      "Kurtosis:                       9.513   Cond. No.                     1.35e+03\n",
      "==============================================================================\n",
      "\n",
      "Notes:\n",
      "[1] Standard Errors assume that the covariance matrix of the errors is correctly specified.\n",
      "[2] The condition number is large, 1.35e+03. This might indicate that there are\n",
      "strong multicollinearity or other numerical problems.\n"
     ]
    }
   ],
   "source": [
    "import statsmodels.formula.api as smf\n",
    "\n",
    "model = smf.ols('awt ~ att + calls + YN', data = df)\n",
    "results = model.fit()\n",
    "print(results.summary())"
   ]
  },
  {
   "cell_type": "code",
   "execution_count": 48,
   "metadata": {},
   "outputs": [
    {
     "name": "stdout",
     "output_type": "stream",
     "text": [
      "113.33915999999999\n",
      "105.628570852\n",
      "59.99429085199999\n",
      "82.835589148\n",
      "98.59274914800001\n"
     ]
    }
   ],
   "source": [
    "def Predict_AWT(att, calls, YN):\n",
    " return((1.2556 * att) + (calls * 0.1542)+ (-5.6768 * YN) + 22.6507)\n",
    "\n",
    "print(Predict_AWT(59.35, 473, 10))\n",
    "print(Predict_AWT(44.16667, 473, 8))\n",
    "print(Predict_AWT(33.86667,445, 13))\n",
    "print(Predict_AWT(41.93333,417, 10))\n",
    "print(Predict_AWT(41.53333,412, 7))\n"
   ]
  },
  {
   "cell_type": "code",
   "execution_count": 49,
   "metadata": {},
   "outputs": [],
   "source": [
    "# import statsmodels.formula.api as smf\n",
    "\n",
    "# model = smf.ols('awt ~ att + calls + abnd + YN', data = df)\n",
    "# results = model.fit()\n",
    "# print(results.summary())"
   ]
  },
  {
   "cell_type": "code",
   "execution_count": 50,
   "metadata": {},
   "outputs": [],
   "source": [
    "# def Predict_AWT(att, calls, abnd,YN):\n",
    "#  return((1.2037 * att) + (calls * -0.0052)+(abnd * 0.2980)+ (-2.0800 * YN) + 19.0421)\n",
    "\n",
    "# print(Predict_AWT(59.35, 473, 148, 10))\n",
    "# print(Predict_AWT(44.16667, 473, 158, 8))\n",
    "# print(Predict_AWT(33.86667,445, 84, 13))\n",
    "# print(Predict_AWT(41.93333,417, 97, 10))\n",
    "# print(Predict_AWT(41.53333,412, 63, 7))"
   ]
  }
 ],
 "metadata": {
  "interpreter": {
   "hash": "26ac70b5c855f3cffed1459581edf6660e9bd33ecfe6b500d1263601edad6517"
  },
  "kernelspec": {
   "display_name": "Python 3.8.11 64-bit ('MVR_Operational': conda)",
   "name": "python3"
  },
  "language_info": {
   "codemirror_mode": {
    "name": "ipython",
    "version": 3
   },
   "file_extension": ".py",
   "mimetype": "text/x-python",
   "name": "python",
   "nbconvert_exporter": "python",
   "pygments_lexer": "ipython3",
   "version": "3.8.11"
  },
  "orig_nbformat": 4
 },
 "nbformat": 4,
 "nbformat_minor": 2
}
